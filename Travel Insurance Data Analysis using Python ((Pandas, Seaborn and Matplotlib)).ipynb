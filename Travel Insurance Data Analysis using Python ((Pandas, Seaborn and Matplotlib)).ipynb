{
 "cells": [
  {
   "cell_type": "markdown",
   "metadata": {},
   "source": [
    "# Travel Insurance Data Analysis"
   ]
  },
  {
   "cell_type": "markdown",
   "metadata": {},
   "source": [
    "####  Dataset Info:\n",
    "           Sample Dataset containing Travel Insurance Data of several Agencies and Destinations. In this project i have done\n",
    "        the Exploratory Data Analysis(EDA) on Travel Insurance Data by using python(pandas,Seaborn and matplotlib)."
   ]
  },
  {
   "cell_type": "code",
   "execution_count": 1,
   "metadata": {},
   "outputs": [],
   "source": [
    "# import the required libraries\n",
    "import numpy as np\n",
    "import pandas as pd\n",
    "import matplotlib.pyplot as plt\n",
    "import seaborn as sns"
   ]
  },
  {
   "cell_type": "markdown",
   "metadata": {},
   "source": [
    "#### Load the data file and look at some records of the data"
   ]
  },
  {
   "cell_type": "code",
   "execution_count": 2,
   "metadata": {},
   "outputs": [
    {
     "data": {
      "text/html": [
       "<div>\n",
       "<style scoped>\n",
       "    .dataframe tbody tr th:only-of-type {\n",
       "        vertical-align: middle;\n",
       "    }\n",
       "\n",
       "    .dataframe tbody tr th {\n",
       "        vertical-align: top;\n",
       "    }\n",
       "\n",
       "    .dataframe thead th {\n",
       "        text-align: right;\n",
       "    }\n",
       "</style>\n",
       "<table border=\"1\" class=\"dataframe\">\n",
       "  <thead>\n",
       "    <tr style=\"text-align: right;\">\n",
       "      <th></th>\n",
       "      <th>Agency</th>\n",
       "      <th>Agency Type</th>\n",
       "      <th>Distribution Channel</th>\n",
       "      <th>Product Name</th>\n",
       "      <th>Claim</th>\n",
       "      <th>Duration</th>\n",
       "      <th>Destination</th>\n",
       "      <th>Net Sales</th>\n",
       "      <th>Commision (in value)</th>\n",
       "      <th>Gender</th>\n",
       "      <th>Age</th>\n",
       "    </tr>\n",
       "  </thead>\n",
       "  <tbody>\n",
       "    <tr>\n",
       "      <th>0</th>\n",
       "      <td>CBH</td>\n",
       "      <td>Travel Agency</td>\n",
       "      <td>Offline</td>\n",
       "      <td>Comprehensive Plan</td>\n",
       "      <td>No</td>\n",
       "      <td>186</td>\n",
       "      <td>MALAYSIA</td>\n",
       "      <td>-29.0</td>\n",
       "      <td>9.57</td>\n",
       "      <td>F</td>\n",
       "      <td>81</td>\n",
       "    </tr>\n",
       "    <tr>\n",
       "      <th>1</th>\n",
       "      <td>CBH</td>\n",
       "      <td>Travel Agency</td>\n",
       "      <td>Offline</td>\n",
       "      <td>Comprehensive Plan</td>\n",
       "      <td>No</td>\n",
       "      <td>186</td>\n",
       "      <td>MALAYSIA</td>\n",
       "      <td>-29.0</td>\n",
       "      <td>9.57</td>\n",
       "      <td>F</td>\n",
       "      <td>71</td>\n",
       "    </tr>\n",
       "    <tr>\n",
       "      <th>2</th>\n",
       "      <td>CWT</td>\n",
       "      <td>Travel Agency</td>\n",
       "      <td>Online</td>\n",
       "      <td>Rental Vehicle Excess Insurance</td>\n",
       "      <td>No</td>\n",
       "      <td>65</td>\n",
       "      <td>AUSTRALIA</td>\n",
       "      <td>-49.5</td>\n",
       "      <td>29.70</td>\n",
       "      <td>NaN</td>\n",
       "      <td>32</td>\n",
       "    </tr>\n",
       "    <tr>\n",
       "      <th>3</th>\n",
       "      <td>CWT</td>\n",
       "      <td>Travel Agency</td>\n",
       "      <td>Online</td>\n",
       "      <td>Rental Vehicle Excess Insurance</td>\n",
       "      <td>No</td>\n",
       "      <td>60</td>\n",
       "      <td>AUSTRALIA</td>\n",
       "      <td>-39.6</td>\n",
       "      <td>23.76</td>\n",
       "      <td>NaN</td>\n",
       "      <td>32</td>\n",
       "    </tr>\n",
       "    <tr>\n",
       "      <th>4</th>\n",
       "      <td>CWT</td>\n",
       "      <td>Travel Agency</td>\n",
       "      <td>Online</td>\n",
       "      <td>Rental Vehicle Excess Insurance</td>\n",
       "      <td>No</td>\n",
       "      <td>79</td>\n",
       "      <td>ITALY</td>\n",
       "      <td>-19.8</td>\n",
       "      <td>11.88</td>\n",
       "      <td>NaN</td>\n",
       "      <td>41</td>\n",
       "    </tr>\n",
       "    <tr>\n",
       "      <th>...</th>\n",
       "      <td>...</td>\n",
       "      <td>...</td>\n",
       "      <td>...</td>\n",
       "      <td>...</td>\n",
       "      <td>...</td>\n",
       "      <td>...</td>\n",
       "      <td>...</td>\n",
       "      <td>...</td>\n",
       "      <td>...</td>\n",
       "      <td>...</td>\n",
       "      <td>...</td>\n",
       "    </tr>\n",
       "    <tr>\n",
       "      <th>63321</th>\n",
       "      <td>JZI</td>\n",
       "      <td>Airlines</td>\n",
       "      <td>Online</td>\n",
       "      <td>Basic Plan</td>\n",
       "      <td>No</td>\n",
       "      <td>111</td>\n",
       "      <td>JAPAN</td>\n",
       "      <td>35.0</td>\n",
       "      <td>12.25</td>\n",
       "      <td>M</td>\n",
       "      <td>31</td>\n",
       "    </tr>\n",
       "    <tr>\n",
       "      <th>63322</th>\n",
       "      <td>JZI</td>\n",
       "      <td>Airlines</td>\n",
       "      <td>Online</td>\n",
       "      <td>Basic Plan</td>\n",
       "      <td>No</td>\n",
       "      <td>58</td>\n",
       "      <td>CHINA</td>\n",
       "      <td>40.0</td>\n",
       "      <td>14.00</td>\n",
       "      <td>F</td>\n",
       "      <td>40</td>\n",
       "    </tr>\n",
       "    <tr>\n",
       "      <th>63323</th>\n",
       "      <td>JZI</td>\n",
       "      <td>Airlines</td>\n",
       "      <td>Online</td>\n",
       "      <td>Basic Plan</td>\n",
       "      <td>No</td>\n",
       "      <td>2</td>\n",
       "      <td>MALAYSIA</td>\n",
       "      <td>18.0</td>\n",
       "      <td>6.30</td>\n",
       "      <td>M</td>\n",
       "      <td>57</td>\n",
       "    </tr>\n",
       "    <tr>\n",
       "      <th>63324</th>\n",
       "      <td>JZI</td>\n",
       "      <td>Airlines</td>\n",
       "      <td>Online</td>\n",
       "      <td>Basic Plan</td>\n",
       "      <td>No</td>\n",
       "      <td>3</td>\n",
       "      <td>VIET NAM</td>\n",
       "      <td>18.0</td>\n",
       "      <td>6.30</td>\n",
       "      <td>M</td>\n",
       "      <td>63</td>\n",
       "    </tr>\n",
       "    <tr>\n",
       "      <th>63325</th>\n",
       "      <td>JZI</td>\n",
       "      <td>Airlines</td>\n",
       "      <td>Online</td>\n",
       "      <td>Basic Plan</td>\n",
       "      <td>No</td>\n",
       "      <td>22</td>\n",
       "      <td>HONG KONG</td>\n",
       "      <td>26.0</td>\n",
       "      <td>9.10</td>\n",
       "      <td>F</td>\n",
       "      <td>35</td>\n",
       "    </tr>\n",
       "  </tbody>\n",
       "</table>\n",
       "<p>63326 rows × 11 columns</p>\n",
       "</div>"
      ],
      "text/plain": [
       "      Agency    Agency Type Distribution Channel  \\\n",
       "0        CBH  Travel Agency              Offline   \n",
       "1        CBH  Travel Agency              Offline   \n",
       "2        CWT  Travel Agency               Online   \n",
       "3        CWT  Travel Agency               Online   \n",
       "4        CWT  Travel Agency               Online   \n",
       "...      ...            ...                  ...   \n",
       "63321    JZI       Airlines               Online   \n",
       "63322    JZI       Airlines               Online   \n",
       "63323    JZI       Airlines               Online   \n",
       "63324    JZI       Airlines               Online   \n",
       "63325    JZI       Airlines               Online   \n",
       "\n",
       "                          Product Name Claim  Duration Destination  Net Sales  \\\n",
       "0                   Comprehensive Plan    No       186    MALAYSIA      -29.0   \n",
       "1                   Comprehensive Plan    No       186    MALAYSIA      -29.0   \n",
       "2      Rental Vehicle Excess Insurance    No        65   AUSTRALIA      -49.5   \n",
       "3      Rental Vehicle Excess Insurance    No        60   AUSTRALIA      -39.6   \n",
       "4      Rental Vehicle Excess Insurance    No        79       ITALY      -19.8   \n",
       "...                                ...   ...       ...         ...        ...   \n",
       "63321                       Basic Plan    No       111       JAPAN       35.0   \n",
       "63322                       Basic Plan    No        58       CHINA       40.0   \n",
       "63323                       Basic Plan    No         2    MALAYSIA       18.0   \n",
       "63324                       Basic Plan    No         3    VIET NAM       18.0   \n",
       "63325                       Basic Plan    No        22   HONG KONG       26.0   \n",
       "\n",
       "       Commision (in value) Gender  Age  \n",
       "0                      9.57      F   81  \n",
       "1                      9.57      F   71  \n",
       "2                     29.70    NaN   32  \n",
       "3                     23.76    NaN   32  \n",
       "4                     11.88    NaN   41  \n",
       "...                     ...    ...  ...  \n",
       "63321                 12.25      M   31  \n",
       "63322                 14.00      F   40  \n",
       "63323                  6.30      M   57  \n",
       "63324                  6.30      M   63  \n",
       "63325                  9.10      F   35  \n",
       "\n",
       "[63326 rows x 11 columns]"
      ]
     },
     "execution_count": 2,
     "metadata": {},
     "output_type": "execute_result"
    }
   ],
   "source": [
    "df=pd.read_csv('travel insurance.csv')\n",
    "df"
   ]
  },
  {
   "cell_type": "markdown",
   "metadata": {},
   "source": [
    "#### Check the various attributes of data like shape(rows and columns),columns,datatypes"
   ]
  },
  {
   "cell_type": "code",
   "execution_count": 3,
   "metadata": {},
   "outputs": [
    {
     "data": {
      "text/plain": [
       "(63326, 11)"
      ]
     },
     "execution_count": 3,
     "metadata": {},
     "output_type": "execute_result"
    }
   ],
   "source": [
    "df.shape"
   ]
  },
  {
   "cell_type": "code",
   "execution_count": 4,
   "metadata": {},
   "outputs": [
    {
     "data": {
      "text/plain": [
       "array(['Agency', 'Agency Type', 'Distribution Channel', 'Product Name',\n",
       "       'Claim', 'Duration', 'Destination', 'Net Sales',\n",
       "       'Commision (in value)', 'Gender', 'Age'], dtype=object)"
      ]
     },
     "execution_count": 4,
     "metadata": {},
     "output_type": "execute_result"
    }
   ],
   "source": [
    "df.columns.values"
   ]
  },
  {
   "cell_type": "code",
   "execution_count": 6,
   "metadata": {},
   "outputs": [
    {
     "data": {
      "text/plain": [
       "Agency                   object\n",
       "Agency Type              object\n",
       "Distribution Channel     object\n",
       "Product Name             object\n",
       "Claim                    object\n",
       "Duration                  int64\n",
       "Destination              object\n",
       "Net Sales               float64\n",
       "Commision (in value)    float64\n",
       "Gender                   object\n",
       "Age                       int64\n",
       "dtype: object"
      ]
     },
     "execution_count": 6,
     "metadata": {},
     "output_type": "execute_result"
    }
   ],
   "source": [
    "# Checking the data types of all the columns \n",
    "\n",
    "df.dtypes"
   ]
  },
  {
   "cell_type": "markdown",
   "metadata": {},
   "source": [
    "we can see above all the data sets having the correct data types format so no need to change we can move into our further analysis."
   ]
  },
  {
   "cell_type": "markdown",
   "metadata": {},
   "source": [
    "# Data Cleaning"
   ]
  },
  {
   "cell_type": "markdown",
   "metadata": {},
   "source": [
    "* For features with very high number of missing values- it is better to drop those columns as they give very less insight on analysis.\n",
    "\n",
    "\n",
    "\n",
    "* As there is not any specific rule on what criteria do we delete the columns with high number of missing values, but generally you can delete the columns, if you have more than 30-40% of missing values. but again there is a catch here, for example, Is_Car & Car_Type, people having no cars, will obviously have Car_Type as NaN(null), but that does not make this column useless, so decisions has to be taken Wisely."
   ]
  },
  {
   "cell_type": "code",
   "execution_count": 7,
   "metadata": {},
   "outputs": [
    {
     "data": {
      "text/plain": [
       "Agency                      0\n",
       "Agency Type                 0\n",
       "Distribution Channel        0\n",
       "Product Name                0\n",
       "Claim                       0\n",
       "Duration                    0\n",
       "Destination                 0\n",
       "Net Sales                   0\n",
       "Commision (in value)        0\n",
       "Gender                  45107\n",
       "Age                         0\n",
       "dtype: int64"
      ]
     },
     "execution_count": 7,
     "metadata": {},
     "output_type": "execute_result"
    }
   ],
   "source": [
    "df.isnull().sum()"
   ]
  },
  {
   "cell_type": "markdown",
   "metadata": {},
   "source": [
    "#### As we can see there are 45107 missing values in Gender column."
   ]
  },
  {
   "cell_type": "markdown",
   "metadata": {},
   "source": [
    "# Missing Value Treatement"
   ]
  },
  {
   "cell_type": "markdown",
   "metadata": {},
   "source": [
    "#### Since the percentage of these missing records compared to the total dataset is very high , so we need to drop those and it will also not create any sort of impact upon my analysis."
   ]
  },
  {
   "cell_type": "code",
   "execution_count": 8,
   "metadata": {},
   "outputs": [
    {
     "data": {
      "text/plain": [
       "(18219, 11)"
      ]
     },
     "execution_count": 8,
     "metadata": {},
     "output_type": "execute_result"
    }
   ],
   "source": [
    "# Removing missing values\n",
    "\n",
    "df.dropna(subset=['Gender'],how='all',inplace=True)\n",
    "df.shape"
   ]
  },
  {
   "cell_type": "code",
   "execution_count": 9,
   "metadata": {},
   "outputs": [
    {
     "data": {
      "text/plain": [
       "Agency                  0\n",
       "Agency Type             0\n",
       "Distribution Channel    0\n",
       "Product Name            0\n",
       "Claim                   0\n",
       "Duration                0\n",
       "Destination             0\n",
       "Net Sales               0\n",
       "Commision (in value)    0\n",
       "Gender                  0\n",
       "Age                     0\n",
       "dtype: int64"
      ]
     },
     "execution_count": 9,
     "metadata": {},
     "output_type": "execute_result"
    }
   ],
   "source": [
    "df.isnull().sum()"
   ]
  },
  {
   "cell_type": "code",
   "execution_count": 10,
   "metadata": {},
   "outputs": [
    {
     "data": {
      "text/plain": [
       "1260"
      ]
     },
     "execution_count": 10,
     "metadata": {},
     "output_type": "execute_result"
    }
   ],
   "source": [
    "# Checking about duplicated values\n",
    "\n",
    "df.duplicated().sum()"
   ]
  },
  {
   "cell_type": "code",
   "execution_count": 11,
   "metadata": {},
   "outputs": [],
   "source": [
    "# Removing the duplicated values\n",
    "\n",
    "df.drop_duplicates(inplace=True)"
   ]
  },
  {
   "cell_type": "code",
   "execution_count": 12,
   "metadata": {},
   "outputs": [
    {
     "data": {
      "text/plain": [
       "0"
      ]
     },
     "execution_count": 12,
     "metadata": {},
     "output_type": "execute_result"
    }
   ],
   "source": [
    "df.duplicated().sum()"
   ]
  },
  {
   "cell_type": "code",
   "execution_count": 13,
   "metadata": {},
   "outputs": [
    {
     "data": {
      "text/plain": [
       "(16959, 11)"
      ]
     },
     "execution_count": 13,
     "metadata": {},
     "output_type": "execute_result"
    }
   ],
   "source": [
    "df.shape"
   ]
  },
  {
   "cell_type": "markdown",
   "metadata": {},
   "source": [
    "## Changing the name of the Columns"
   ]
  },
  {
   "cell_type": "code",
   "execution_count": 14,
   "metadata": {},
   "outputs": [],
   "source": [
    "df.rename({'Agency Type':'Agency_Type','Distribution Channel':'Distribution_Channel','Product Name':'Product_Name','Net Sales':'Net_Sales','Commision(in value)':'Commision_(in value)'},axis=1,inplace=True)"
   ]
  },
  {
   "cell_type": "markdown",
   "metadata": {},
   "source": [
    "#### Checking the Descriptive Statistics of numeric variables"
   ]
  },
  {
   "cell_type": "code",
   "execution_count": 15,
   "metadata": {},
   "outputs": [
    {
     "data": {
      "text/html": [
       "<div>\n",
       "<style scoped>\n",
       "    .dataframe tbody tr th:only-of-type {\n",
       "        vertical-align: middle;\n",
       "    }\n",
       "\n",
       "    .dataframe tbody tr th {\n",
       "        vertical-align: top;\n",
       "    }\n",
       "\n",
       "    .dataframe thead th {\n",
       "        text-align: right;\n",
       "    }\n",
       "</style>\n",
       "<table border=\"1\" class=\"dataframe\">\n",
       "  <thead>\n",
       "    <tr style=\"text-align: right;\">\n",
       "      <th></th>\n",
       "      <th>Duration</th>\n",
       "      <th>Net_Sales</th>\n",
       "      <th>Commision (in value)</th>\n",
       "      <th>Age</th>\n",
       "    </tr>\n",
       "  </thead>\n",
       "  <tbody>\n",
       "    <tr>\n",
       "      <th>count</th>\n",
       "      <td>16959.000000</td>\n",
       "      <td>16959.000000</td>\n",
       "      <td>16959.000000</td>\n",
       "      <td>16959.000000</td>\n",
       "    </tr>\n",
       "    <tr>\n",
       "      <th>mean</th>\n",
       "      <td>69.589127</td>\n",
       "      <td>57.978307</td>\n",
       "      <td>18.721790</td>\n",
       "      <td>43.716552</td>\n",
       "    </tr>\n",
       "    <tr>\n",
       "      <th>std</th>\n",
       "      <td>112.484197</td>\n",
       "      <td>74.390126</td>\n",
       "      <td>25.450331</td>\n",
       "      <td>18.905368</td>\n",
       "    </tr>\n",
       "    <tr>\n",
       "      <th>min</th>\n",
       "      <td>-2.000000</td>\n",
       "      <td>-389.000000</td>\n",
       "      <td>0.000000</td>\n",
       "      <td>0.000000</td>\n",
       "    </tr>\n",
       "    <tr>\n",
       "      <th>25%</th>\n",
       "      <td>10.000000</td>\n",
       "      <td>22.000000</td>\n",
       "      <td>6.750000</td>\n",
       "      <td>31.000000</td>\n",
       "    </tr>\n",
       "    <tr>\n",
       "      <th>50%</th>\n",
       "      <td>22.000000</td>\n",
       "      <td>30.000000</td>\n",
       "      <td>9.750000</td>\n",
       "      <td>40.000000</td>\n",
       "    </tr>\n",
       "    <tr>\n",
       "      <th>75%</th>\n",
       "      <td>59.000000</td>\n",
       "      <td>56.500000</td>\n",
       "      <td>17.230000</td>\n",
       "      <td>51.000000</td>\n",
       "    </tr>\n",
       "    <tr>\n",
       "      <th>max</th>\n",
       "      <td>740.000000</td>\n",
       "      <td>810.000000</td>\n",
       "      <td>283.500000</td>\n",
       "      <td>118.000000</td>\n",
       "    </tr>\n",
       "  </tbody>\n",
       "</table>\n",
       "</div>"
      ],
      "text/plain": [
       "           Duration     Net_Sales  Commision (in value)           Age\n",
       "count  16959.000000  16959.000000          16959.000000  16959.000000\n",
       "mean      69.589127     57.978307             18.721790     43.716552\n",
       "std      112.484197     74.390126             25.450331     18.905368\n",
       "min       -2.000000   -389.000000              0.000000      0.000000\n",
       "25%       10.000000     22.000000              6.750000     31.000000\n",
       "50%       22.000000     30.000000              9.750000     40.000000\n",
       "75%       59.000000     56.500000             17.230000     51.000000\n",
       "max      740.000000    810.000000            283.500000    118.000000"
      ]
     },
     "execution_count": 15,
     "metadata": {},
     "output_type": "execute_result"
    }
   ],
   "source": [
    "df.describe()"
   ]
  },
  {
   "cell_type": "markdown",
   "metadata": {},
   "source": [
    "#### Look at the top 5 records of data"
   ]
  },
  {
   "cell_type": "code",
   "execution_count": 16,
   "metadata": {},
   "outputs": [
    {
     "data": {
      "text/html": [
       "<div>\n",
       "<style scoped>\n",
       "    .dataframe tbody tr th:only-of-type {\n",
       "        vertical-align: middle;\n",
       "    }\n",
       "\n",
       "    .dataframe tbody tr th {\n",
       "        vertical-align: top;\n",
       "    }\n",
       "\n",
       "    .dataframe thead th {\n",
       "        text-align: right;\n",
       "    }\n",
       "</style>\n",
       "<table border=\"1\" class=\"dataframe\">\n",
       "  <thead>\n",
       "    <tr style=\"text-align: right;\">\n",
       "      <th></th>\n",
       "      <th>Agency</th>\n",
       "      <th>Agency_Type</th>\n",
       "      <th>Distribution_Channel</th>\n",
       "      <th>Product_Name</th>\n",
       "      <th>Claim</th>\n",
       "      <th>Duration</th>\n",
       "      <th>Destination</th>\n",
       "      <th>Net_Sales</th>\n",
       "      <th>Commision (in value)</th>\n",
       "      <th>Gender</th>\n",
       "      <th>Age</th>\n",
       "    </tr>\n",
       "  </thead>\n",
       "  <tbody>\n",
       "    <tr>\n",
       "      <th>0</th>\n",
       "      <td>CBH</td>\n",
       "      <td>Travel Agency</td>\n",
       "      <td>Offline</td>\n",
       "      <td>Comprehensive Plan</td>\n",
       "      <td>No</td>\n",
       "      <td>186</td>\n",
       "      <td>MALAYSIA</td>\n",
       "      <td>-29.0</td>\n",
       "      <td>9.57</td>\n",
       "      <td>F</td>\n",
       "      <td>81</td>\n",
       "    </tr>\n",
       "    <tr>\n",
       "      <th>1</th>\n",
       "      <td>CBH</td>\n",
       "      <td>Travel Agency</td>\n",
       "      <td>Offline</td>\n",
       "      <td>Comprehensive Plan</td>\n",
       "      <td>No</td>\n",
       "      <td>186</td>\n",
       "      <td>MALAYSIA</td>\n",
       "      <td>-29.0</td>\n",
       "      <td>9.57</td>\n",
       "      <td>F</td>\n",
       "      <td>71</td>\n",
       "    </tr>\n",
       "    <tr>\n",
       "      <th>5</th>\n",
       "      <td>JZI</td>\n",
       "      <td>Airlines</td>\n",
       "      <td>Online</td>\n",
       "      <td>Value Plan</td>\n",
       "      <td>No</td>\n",
       "      <td>66</td>\n",
       "      <td>UNITED STATES</td>\n",
       "      <td>-121.0</td>\n",
       "      <td>42.35</td>\n",
       "      <td>F</td>\n",
       "      <td>44</td>\n",
       "    </tr>\n",
       "    <tr>\n",
       "      <th>11</th>\n",
       "      <td>JZI</td>\n",
       "      <td>Airlines</td>\n",
       "      <td>Online</td>\n",
       "      <td>Basic Plan</td>\n",
       "      <td>No</td>\n",
       "      <td>1</td>\n",
       "      <td>MALAYSIA</td>\n",
       "      <td>-18.0</td>\n",
       "      <td>6.30</td>\n",
       "      <td>M</td>\n",
       "      <td>47</td>\n",
       "    </tr>\n",
       "    <tr>\n",
       "      <th>12</th>\n",
       "      <td>KML</td>\n",
       "      <td>Travel Agency</td>\n",
       "      <td>Online</td>\n",
       "      <td>Premier Plan</td>\n",
       "      <td>No</td>\n",
       "      <td>53</td>\n",
       "      <td>NORWAY</td>\n",
       "      <td>-130.0</td>\n",
       "      <td>49.40</td>\n",
       "      <td>F</td>\n",
       "      <td>48</td>\n",
       "    </tr>\n",
       "  </tbody>\n",
       "</table>\n",
       "</div>"
      ],
      "text/plain": [
       "   Agency    Agency_Type Distribution_Channel        Product_Name Claim  \\\n",
       "0     CBH  Travel Agency              Offline  Comprehensive Plan    No   \n",
       "1     CBH  Travel Agency              Offline  Comprehensive Plan    No   \n",
       "5     JZI       Airlines               Online          Value Plan    No   \n",
       "11    JZI       Airlines               Online          Basic Plan    No   \n",
       "12    KML  Travel Agency               Online        Premier Plan    No   \n",
       "\n",
       "    Duration    Destination  Net_Sales  Commision (in value) Gender  Age  \n",
       "0        186       MALAYSIA      -29.0                  9.57      F   81  \n",
       "1        186       MALAYSIA      -29.0                  9.57      F   71  \n",
       "5         66  UNITED STATES     -121.0                 42.35      F   44  \n",
       "11         1       MALAYSIA      -18.0                  6.30      M   47  \n",
       "12        53         NORWAY     -130.0                 49.40      F   48  "
      ]
     },
     "execution_count": 16,
     "metadata": {},
     "output_type": "execute_result"
    }
   ],
   "source": [
    "df.head()"
   ]
  },
  {
   "cell_type": "code",
   "execution_count": 17,
   "metadata": {},
   "outputs": [
    {
     "name": "stdout",
     "output_type": "stream",
     "text": [
      "<class 'pandas.core.frame.DataFrame'>\n",
      "Int64Index: 16959 entries, 0 to 63325\n",
      "Data columns (total 11 columns):\n",
      " #   Column                Non-Null Count  Dtype  \n",
      "---  ------                --------------  -----  \n",
      " 0   Agency                16959 non-null  object \n",
      " 1   Agency_Type           16959 non-null  object \n",
      " 2   Distribution_Channel  16959 non-null  object \n",
      " 3   Product_Name          16959 non-null  object \n",
      " 4   Claim                 16959 non-null  object \n",
      " 5   Duration              16959 non-null  int64  \n",
      " 6   Destination           16959 non-null  object \n",
      " 7   Net_Sales             16959 non-null  float64\n",
      " 8   Commision (in value)  16959 non-null  float64\n",
      " 9   Gender                16959 non-null  object \n",
      " 10  Age                   16959 non-null  int64  \n",
      "dtypes: float64(2), int64(2), object(7)\n",
      "memory usage: 1.6+ MB\n"
     ]
    }
   ],
   "source": [
    "# Concise Summary of the dataframe\n",
    "\n",
    "df.info()"
   ]
  },
  {
   "cell_type": "markdown",
   "metadata": {},
   "source": [
    "# Data Exploration"
   ]
  },
  {
   "cell_type": "markdown",
   "metadata": {},
   "source": [
    "### Bivariate Analysis"
   ]
  },
  {
   "cell_type": "code",
   "execution_count": 22,
   "metadata": {},
   "outputs": [
    {
     "data": {
      "image/png": "[encoded data removed]",
      "text/plain": [
       "<Figure size 432x288 with 1 Axes>"
      ]
     },
     "metadata": {
      "needs_background": "light"
     },
     "output_type": "display_data"
    }
   ],
   "source": [
    "sns.barplot(x='Agency_Type',y='Duration',data=df)\n",
    "plt.grid()\n",
    "plt.title('agency_type vs duration')\n",
    "plt.show()"
   ]
  },
  {
   "cell_type": "markdown",
   "metadata": {},
   "source": [
    "* looking at the above bar graph we are not able to get any insights because we are not sure what is the value is showing us the average duration of the Agency_Types or some thing else.\n",
    "\n",
    "  so lets try to figure it out below."
   ]
  },
  {
   "cell_type": "code",
   "execution_count": 36,
   "metadata": {},
   "outputs": [
    {
     "data": {
      "text/plain": [
       "Agency_Type    2013\n",
       "dtype: int64"
      ]
     },
     "execution_count": 36,
     "metadata": {},
     "output_type": "execute_result"
    }
   ],
   "source": [
    "# counting total number of travel agency values\n",
    "\n",
    "df.loc[df.Agency_Type=='Travel Agency',['Agency_Type']].count()"
   ]
  },
  {
   "cell_type": "code",
   "execution_count": 37,
   "metadata": {},
   "outputs": [
    {
     "data": {
      "text/plain": [
       "Agency_Type    14946\n",
       "dtype: int64"
      ]
     },
     "execution_count": 37,
     "metadata": {},
     "output_type": "execute_result"
    }
   ],
   "source": [
    "## counting total number of airlines agency values\n",
    "\n",
    "df.loc[df.Agency_Type=='Airlines',['Agency_Type']].count()"
   ]
  },
  {
   "cell_type": "code",
   "execution_count": 38,
   "metadata": {},
   "outputs": [
    {
     "data": {
      "text/plain": [
       "Duration    202885\n",
       "dtype: int64"
      ]
     },
     "execution_count": 38,
     "metadata": {},
     "output_type": "execute_result"
    }
   ],
   "source": [
    "# Checking total duration for travel agency\n",
    "\n",
    "df.loc[df.Agency_Type=='Travel Agency',['Duration']].sum()"
   ]
  },
  {
   "cell_type": "code",
   "execution_count": 39,
   "metadata": {},
   "outputs": [
    {
     "data": {
      "text/plain": [
       "Duration    977277\n",
       "dtype: int64"
      ]
     },
     "execution_count": 39,
     "metadata": {},
     "output_type": "execute_result"
    }
   ],
   "source": [
    "## Checking total duration for airlines agency\n",
    "\n",
    "df.loc[df.Agency_Type=='Airlines',['Duration']].sum()"
   ]
  },
  {
   "cell_type": "code",
   "execution_count": 41,
   "metadata": {},
   "outputs": [
    {
     "data": {
      "text/plain": [
       "Duration    100.787382\n",
       "dtype: float64"
      ]
     },
     "execution_count": 41,
     "metadata": {},
     "output_type": "execute_result"
    }
   ],
   "source": [
    "# Average duration for Travel Agency\n",
    "\n",
    "df.loc[df.Agency_Type=='Travel Agency',['Duration']].mean()"
   ]
  },
  {
   "cell_type": "code",
   "execution_count": 42,
   "metadata": {},
   "outputs": [
    {
     "data": {
      "text/plain": [
       "Duration    65.387194\n",
       "dtype: float64"
      ]
     },
     "execution_count": 42,
     "metadata": {},
     "output_type": "execute_result"
    }
   ],
   "source": [
    "## Average duration for Airlines Agency\n",
    "\n",
    "df.loc[df.Agency_Type=='Airlines',['Duration']].mean()"
   ]
  },
  {
   "cell_type": "markdown",
   "metadata": {},
   "source": [
    "* Now we are sure that the above bar garph shows us the average duration for both the agencies."
   ]
  },
  {
   "cell_type": "code",
   "execution_count": 43,
   "metadata": {},
   "outputs": [
    {
     "data": {
      "image/png": "[encoded data removed]",
      "text/plain": [
       "<Figure size 504x432 with 1 Axes>"
      ]
     },
     "metadata": {
      "needs_background": "light"
     },
     "output_type": "display_data"
    }
   ],
   "source": [
    "plt.figure(figsize=(7,6))\n",
    "sns.violinplot(x='Agency_Type',y='Net_Sales',data=df)\n",
    "plt.grid()\n",
    "plt.title('agency_type vs net sales')\n",
    "plt.show()"
   ]
  },
  {
   "cell_type": "markdown",
   "metadata": {},
   "source": [
    "# Multivariate analysis"
   ]
  },
  {
   "cell_type": "code",
   "execution_count": 44,
   "metadata": {},
   "outputs": [
    {
     "data": {
      "image/png": "[encoded data removed]",
      "text/plain": [
       "<Figure size 504x432 with 2 Axes>"
      ]
     },
     "metadata": {
      "needs_background": "light"
     },
     "output_type": "display_data"
    }
   ],
   "source": [
    "plt.figure(figsize=(7,6))\n",
    "sns.heatmap(df.corr())\n",
    "plt.title('correlation heatmap')\n",
    "plt.show()"
   ]
  },
  {
   "cell_type": "markdown",
   "metadata": {},
   "source": [
    "## Bivariate Analysis"
   ]
  },
  {
   "cell_type": "code",
   "execution_count": 46,
   "metadata": {},
   "outputs": [
    {
     "data": {
      "image/png": "[encoded data removed]",
      "text/plain": [
       "<Figure size 432x432 with 1 Axes>"
      ]
     },
     "metadata": {
      "needs_background": "light"
     },
     "output_type": "display_data"
    }
   ],
   "source": [
    "plt.figure(figsize=(6,6))\n",
    "\n",
    "sns.scatterplot(x='Gender',y='Commision (in value)',data=df,hue='Gender',marker='o')\n",
    "plt.grid()\n",
    "plt.title('gender vs Commision (in value)')\n",
    "plt.show()\n"
   ]
  },
  {
   "cell_type": "code",
   "execution_count": 47,
   "metadata": {},
   "outputs": [
    {
     "data": {
      "image/png": "[encoded data removed]",
      "text/plain": [
       "<Figure size 504x432 with 1 Axes>"
      ]
     },
     "metadata": {
      "needs_background": "light"
     },
     "output_type": "display_data"
    }
   ],
   "source": [
    "plt.figure(figsize=(7,6))\n",
    "\n",
    "sns.lineplot(x='Age',y='Net_Sales',data=df,color='r')\n",
    "plt.grid()\n",
    "plt.title('Age vs net_sales')\n",
    "plt.show()"
   ]
  },
  {
   "cell_type": "code",
   "execution_count": 48,
   "metadata": {},
   "outputs": [
    {
     "data": {
      "text/plain": [
       "array(['MALAYSIA', 'UNITED STATES', 'NORWAY', 'SINGAPORE', 'INDIA',\n",
       "       'BRUNEI DARUSSALAM', 'AUSTRALIA', 'INDONESIA', 'THAILAND', 'CHINA',\n",
       "       'PHILIPPINES', 'HONG KONG', 'VIET NAM', 'CAMBODIA', 'AUSTRIA',\n",
       "       'MYANMAR', 'JAPAN', 'TAIWAN, PROVINCE OF CHINA', 'SRI LANKA',\n",
       "       'UNITED KINGDOM', 'FRANCE', 'GERMANY', 'NETHERLANDS', 'MACAO',\n",
       "       'KOREA, REPUBLIC OF', 'UNITED ARAB EMIRATES', 'DENMARK',\n",
       "       \"LAO PEOPLE'S DEMOCRATIC REPUBLIC\", 'ITALY', 'OMAN', 'NEW ZEALAND',\n",
       "       'FIJI', 'POLAND', 'NEPAL', 'SPAIN', 'CANADA', 'BRAZIL', 'PORTUGAL',\n",
       "       'IRELAND', 'NEW CALEDONIA', 'FINLAND', 'SAUDI ARABIA', 'JORDAN',\n",
       "       'SWEDEN', 'GUINEA', 'TURKEY', 'BANGLADESH', 'MONGOLIA',\n",
       "       'AZERBAIJAN', 'PAKISTAN', 'MOROCCO', 'SWITZERLAND', 'LITHUANIA',\n",
       "       'MALI', 'BELGIUM', 'CZECH REPUBLIC', 'HUNGARY', 'PAPUA NEW GUINEA',\n",
       "       'BAHRAIN', 'KENYA', 'MAURITIUS', 'CYPRUS', 'ANGOLA', 'BELARUS',\n",
       "       'ESTONIA', 'ARGENTINA', 'NAMIBIA', 'BULGARIA', 'PERU', 'QATAR',\n",
       "       'ISRAEL', 'TURKMENISTAN', 'EGYPT', 'BHUTAN', 'MEXICO',\n",
       "       'IRAN, ISLAMIC REPUBLIC OF', 'UZBEKISTAN', 'RUSSIAN FEDERATION',\n",
       "       'FRENCH POLYNESIA', 'MALDIVES', 'SOUTH AFRICA', 'CROATIA'],\n",
       "      dtype=object)"
      ]
     },
     "execution_count": 48,
     "metadata": {},
     "output_type": "execute_result"
    }
   ],
   "source": [
    "# Checking up the unique values\n",
    "\n",
    "df.Destination.unique()"
   ]
  },
  {
   "cell_type": "code",
   "execution_count": 49,
   "metadata": {},
   "outputs": [],
   "source": [
    "## Checking up some destinations name ,duration, net_sales , commision and age."
   ]
  },
  {
   "cell_type": "code",
   "execution_count": 50,
   "metadata": {},
   "outputs": [
    {
     "data": {
      "image/png": "[encoded data removed]",
      "text/plain": [
       "<Figure size 432x288 with 1 Axes>"
      ]
     },
     "metadata": {
      "needs_background": "light"
     },
     "output_type": "display_data"
    }
   ],
   "source": [
    "des= df[df.Destination=='ITALY'].plot(marker='.')\n",
    "\n",
    "plt.title('destination wise duration,net_sales, commision and age ITALY')\n",
    "plt.grid()\n",
    "plt.show()"
   ]
  },
  {
   "cell_type": "code",
   "execution_count": 51,
   "metadata": {},
   "outputs": [
    {
     "data": {
      "image/png": "[encoded data removed]",
      "text/plain": [
       "<Figure size 432x288 with 1 Axes>"
      ]
     },
     "metadata": {
      "needs_background": "light"
     },
     "output_type": "display_data"
    }
   ],
   "source": [
    "des= df[df.Destination=='SWITZERLAND'].plot(marker='.',style='-')\n",
    "plt.title('destination wise duration,net_sales, commision and age SWITZERLAND')\n",
    "plt.grid()\n",
    "plt.show()"
   ]
  },
  {
   "cell_type": "code",
   "execution_count": 52,
   "metadata": {},
   "outputs": [
    {
     "data": {
      "image/png": "[encoded data removed]",
      "text/plain": [
       "<Figure size 432x288 with 1 Axes>"
      ]
     },
     "metadata": {
      "needs_background": "light"
     },
     "output_type": "display_data"
    }
   ],
   "source": [
    "des= df[df.Destination=='NORWAY'].plot(marker='.')\n",
    "plt.title('destination wise duration,net_sales, commision and age NORWAY')\n",
    "plt.grid()\n",
    "plt.show()"
   ]
  },
  {
   "cell_type": "code",
   "execution_count": 53,
   "metadata": {},
   "outputs": [
    {
     "data": {
      "image/png": "[encoded data removed]",
      "text/plain": [
       "<Figure size 432x288 with 1 Axes>"
      ]
     },
     "metadata": {
      "needs_background": "light"
     },
     "output_type": "display_data"
    }
   ],
   "source": [
    "des= df[df.Destination=='CANADA'].plot(marker='x',style='-')\n",
    "plt.title('destination wise duration,net_sales, commision and age CANADA')\n",
    "plt.legend(loc='best')\n",
    "plt.grid()\n",
    "plt.show()"
   ]
  },
  {
   "cell_type": "code",
   "execution_count": 54,
   "metadata": {},
   "outputs": [
    {
     "data": {
      "image/png": "[encoded data removed]",
      "text/plain": [
       "<Figure size 432x288 with 1 Axes>"
      ]
     },
     "metadata": {
      "needs_background": "light"
     },
     "output_type": "display_data"
    }
   ],
   "source": [
    "des= df[df.Destination=='FINLAND'].plot(marker='.',style='-')\n",
    "plt.title('destination wise duration,net_sales, commision and age FINLAND')\n",
    "plt.grid()\n",
    "plt.show()"
   ]
  },
  {
   "cell_type": "markdown",
   "metadata": {},
   "source": [
    "# Top 10 most selling products by Net sales"
   ]
  },
  {
   "cell_type": "code",
   "execution_count": 55,
   "metadata": {},
   "outputs": [
    {
     "data": {
      "text/html": [
       "<div>\n",
       "<style scoped>\n",
       "    .dataframe tbody tr th:only-of-type {\n",
       "        vertical-align: middle;\n",
       "    }\n",
       "\n",
       "    .dataframe tbody tr th {\n",
       "        vertical-align: top;\n",
       "    }\n",
       "\n",
       "    .dataframe thead th {\n",
       "        text-align: right;\n",
       "    }\n",
       "</style>\n",
       "<table border=\"1\" class=\"dataframe\">\n",
       "  <thead>\n",
       "    <tr style=\"text-align: right;\">\n",
       "      <th></th>\n",
       "      <th>Net_Sales</th>\n",
       "    </tr>\n",
       "    <tr>\n",
       "      <th>Product_Name</th>\n",
       "      <th></th>\n",
       "    </tr>\n",
       "  </thead>\n",
       "  <tbody>\n",
       "    <tr>\n",
       "      <th>24 Protect</th>\n",
       "      <td>5455.74</td>\n",
       "    </tr>\n",
       "    <tr>\n",
       "      <th>Annual Gold Plan</th>\n",
       "      <td>63146.60</td>\n",
       "    </tr>\n",
       "    <tr>\n",
       "      <th>Annual Silver Plan</th>\n",
       "      <td>279666.11</td>\n",
       "    </tr>\n",
       "    <tr>\n",
       "      <th>Annual Travel Protect Gold</th>\n",
       "      <td>24438.05</td>\n",
       "    </tr>\n",
       "    <tr>\n",
       "      <th>Annual Travel Protect Platinum</th>\n",
       "      <td>17607.10</td>\n",
       "    </tr>\n",
       "    <tr>\n",
       "      <th>Annual Travel Protect Silver</th>\n",
       "      <td>17251.30</td>\n",
       "    </tr>\n",
       "    <tr>\n",
       "      <th>Basic Plan</th>\n",
       "      <td>137253.00</td>\n",
       "    </tr>\n",
       "    <tr>\n",
       "      <th>Bronze Plan</th>\n",
       "      <td>129459.95</td>\n",
       "    </tr>\n",
       "    <tr>\n",
       "      <th>Child Comprehensive Plan</th>\n",
       "      <td>592.00</td>\n",
       "    </tr>\n",
       "    <tr>\n",
       "      <th>Comprehensive Plan</th>\n",
       "      <td>10055.00</td>\n",
       "    </tr>\n",
       "    <tr>\n",
       "      <th>Gold Plan</th>\n",
       "      <td>27825.70</td>\n",
       "    </tr>\n",
       "    <tr>\n",
       "      <th>Individual Comprehensive Plan</th>\n",
       "      <td>6887.00</td>\n",
       "    </tr>\n",
       "    <tr>\n",
       "      <th>Premier Plan</th>\n",
       "      <td>10783.00</td>\n",
       "    </tr>\n",
       "    <tr>\n",
       "      <th>Rental Vehicle Excess Insurance</th>\n",
       "      <td>227.70</td>\n",
       "    </tr>\n",
       "    <tr>\n",
       "      <th>Silver Plan</th>\n",
       "      <td>110815.85</td>\n",
       "    </tr>\n",
       "    <tr>\n",
       "      <th>Single Trip Travel Protect Gold</th>\n",
       "      <td>7981.60</td>\n",
       "    </tr>\n",
       "    <tr>\n",
       "      <th>Single Trip Travel Protect Platinum</th>\n",
       "      <td>3230.65</td>\n",
       "    </tr>\n",
       "    <tr>\n",
       "      <th>Single Trip Travel Protect Silver</th>\n",
       "      <td>5948.75</td>\n",
       "    </tr>\n",
       "    <tr>\n",
       "      <th>Spouse or Parents Comprehensive Plan</th>\n",
       "      <td>1290.00</td>\n",
       "    </tr>\n",
       "    <tr>\n",
       "      <th>Travel Cruise Protect</th>\n",
       "      <td>14580.00</td>\n",
       "    </tr>\n",
       "    <tr>\n",
       "      <th>Travel Cruise Protect Family</th>\n",
       "      <td>0.00</td>\n",
       "    </tr>\n",
       "    <tr>\n",
       "      <th>Value Plan</th>\n",
       "      <td>108759.00</td>\n",
       "    </tr>\n",
       "  </tbody>\n",
       "</table>\n",
       "</div>"
      ],
      "text/plain": [
       "                                      Net_Sales\n",
       "Product_Name                                   \n",
       "24 Protect                              5455.74\n",
       "Annual Gold Plan                       63146.60\n",
       "Annual Silver Plan                    279666.11\n",
       "Annual Travel Protect Gold             24438.05\n",
       "Annual Travel Protect Platinum         17607.10\n",
       "Annual Travel Protect Silver           17251.30\n",
       "Basic Plan                            137253.00\n",
       "Bronze Plan                           129459.95\n",
       "Child Comprehensive Plan                 592.00\n",
       "Comprehensive Plan                     10055.00\n",
       "Gold Plan                              27825.70\n",
       "Individual Comprehensive Plan           6887.00\n",
       "Premier Plan                           10783.00\n",
       "Rental Vehicle Excess Insurance          227.70\n",
       "Silver Plan                           110815.85\n",
       "Single Trip Travel Protect Gold         7981.60\n",
       "Single Trip Travel Protect Platinum     3230.65\n",
       "Single Trip Travel Protect Silver       5948.75\n",
       "Spouse or Parents Comprehensive Plan    1290.00\n",
       "Travel Cruise Protect                  14580.00\n",
       "Travel Cruise Protect Family               0.00\n",
       "Value Plan                            108759.00"
      ]
     },
     "execution_count": 55,
     "metadata": {},
     "output_type": "execute_result"
    }
   ],
   "source": [
    "## grouping product name column by using group by method-\n",
    "\n",
    "prods_sales=pd.DataFrame(df.groupby('Product_Name').sum()['Net_Sales'])\n",
    "prods_sales"
   ]
  },
  {
   "cell_type": "code",
   "execution_count": 56,
   "metadata": {},
   "outputs": [
    {
     "data": {
      "text/html": [
       "<div>\n",
       "<style scoped>\n",
       "    .dataframe tbody tr th:only-of-type {\n",
       "        vertical-align: middle;\n",
       "    }\n",
       "\n",
       "    .dataframe tbody tr th {\n",
       "        vertical-align: top;\n",
       "    }\n",
       "\n",
       "    .dataframe thead th {\n",
       "        text-align: right;\n",
       "    }\n",
       "</style>\n",
       "<table border=\"1\" class=\"dataframe\">\n",
       "  <thead>\n",
       "    <tr style=\"text-align: right;\">\n",
       "      <th></th>\n",
       "      <th>Net_Sales</th>\n",
       "    </tr>\n",
       "    <tr>\n",
       "      <th>Product_Name</th>\n",
       "      <th></th>\n",
       "    </tr>\n",
       "  </thead>\n",
       "  <tbody>\n",
       "    <tr>\n",
       "      <th>Annual Silver Plan</th>\n",
       "      <td>279666.11</td>\n",
       "    </tr>\n",
       "    <tr>\n",
       "      <th>Basic Plan</th>\n",
       "      <td>137253.00</td>\n",
       "    </tr>\n",
       "    <tr>\n",
       "      <th>Bronze Plan</th>\n",
       "      <td>129459.95</td>\n",
       "    </tr>\n",
       "    <tr>\n",
       "      <th>Silver Plan</th>\n",
       "      <td>110815.85</td>\n",
       "    </tr>\n",
       "    <tr>\n",
       "      <th>Value Plan</th>\n",
       "      <td>108759.00</td>\n",
       "    </tr>\n",
       "    <tr>\n",
       "      <th>Annual Gold Plan</th>\n",
       "      <td>63146.60</td>\n",
       "    </tr>\n",
       "    <tr>\n",
       "      <th>Gold Plan</th>\n",
       "      <td>27825.70</td>\n",
       "    </tr>\n",
       "    <tr>\n",
       "      <th>Annual Travel Protect Gold</th>\n",
       "      <td>24438.05</td>\n",
       "    </tr>\n",
       "    <tr>\n",
       "      <th>Annual Travel Protect Platinum</th>\n",
       "      <td>17607.10</td>\n",
       "    </tr>\n",
       "    <tr>\n",
       "      <th>Annual Travel Protect Silver</th>\n",
       "      <td>17251.30</td>\n",
       "    </tr>\n",
       "    <tr>\n",
       "      <th>Travel Cruise Protect</th>\n",
       "      <td>14580.00</td>\n",
       "    </tr>\n",
       "    <tr>\n",
       "      <th>Premier Plan</th>\n",
       "      <td>10783.00</td>\n",
       "    </tr>\n",
       "    <tr>\n",
       "      <th>Comprehensive Plan</th>\n",
       "      <td>10055.00</td>\n",
       "    </tr>\n",
       "    <tr>\n",
       "      <th>Single Trip Travel Protect Gold</th>\n",
       "      <td>7981.60</td>\n",
       "    </tr>\n",
       "    <tr>\n",
       "      <th>Individual Comprehensive Plan</th>\n",
       "      <td>6887.00</td>\n",
       "    </tr>\n",
       "    <tr>\n",
       "      <th>Single Trip Travel Protect Silver</th>\n",
       "      <td>5948.75</td>\n",
       "    </tr>\n",
       "    <tr>\n",
       "      <th>24 Protect</th>\n",
       "      <td>5455.74</td>\n",
       "    </tr>\n",
       "    <tr>\n",
       "      <th>Single Trip Travel Protect Platinum</th>\n",
       "      <td>3230.65</td>\n",
       "    </tr>\n",
       "    <tr>\n",
       "      <th>Spouse or Parents Comprehensive Plan</th>\n",
       "      <td>1290.00</td>\n",
       "    </tr>\n",
       "    <tr>\n",
       "      <th>Child Comprehensive Plan</th>\n",
       "      <td>592.00</td>\n",
       "    </tr>\n",
       "    <tr>\n",
       "      <th>Rental Vehicle Excess Insurance</th>\n",
       "      <td>227.70</td>\n",
       "    </tr>\n",
       "    <tr>\n",
       "      <th>Travel Cruise Protect Family</th>\n",
       "      <td>0.00</td>\n",
       "    </tr>\n",
       "  </tbody>\n",
       "</table>\n",
       "</div>"
      ],
      "text/plain": [
       "                                      Net_Sales\n",
       "Product_Name                                   \n",
       "Annual Silver Plan                    279666.11\n",
       "Basic Plan                            137253.00\n",
       "Bronze Plan                           129459.95\n",
       "Silver Plan                           110815.85\n",
       "Value Plan                            108759.00\n",
       "Annual Gold Plan                       63146.60\n",
       "Gold Plan                              27825.70\n",
       "Annual Travel Protect Gold             24438.05\n",
       "Annual Travel Protect Platinum         17607.10\n",
       "Annual Travel Protect Silver           17251.30\n",
       "Travel Cruise Protect                  14580.00\n",
       "Premier Plan                           10783.00\n",
       "Comprehensive Plan                     10055.00\n",
       "Single Trip Travel Protect Gold         7981.60\n",
       "Individual Comprehensive Plan           6887.00\n",
       "Single Trip Travel Protect Silver       5948.75\n",
       "24 Protect                              5455.74\n",
       "Single Trip Travel Protect Platinum     3230.65\n",
       "Spouse or Parents Comprehensive Plan    1290.00\n",
       "Child Comprehensive Plan                 592.00\n",
       "Rental Vehicle Excess Insurance          227.70\n",
       "Travel Cruise Protect Family               0.00"
      ]
     },
     "execution_count": 56,
     "metadata": {},
     "output_type": "execute_result"
    }
   ],
   "source": [
    "## sorting product sales column-\n",
    "\n",
    "products_sales= prods_sales.sort_values('Net_Sales',ascending=False)\n",
    "products_sales"
   ]
  },
  {
   "cell_type": "markdown",
   "metadata": {},
   "source": [
    "# Top 10 most selling products below"
   ]
  },
  {
   "cell_type": "code",
   "execution_count": 57,
   "metadata": {},
   "outputs": [
    {
     "data": {
      "text/html": [
       "<div>\n",
       "<style scoped>\n",
       "    .dataframe tbody tr th:only-of-type {\n",
       "        vertical-align: middle;\n",
       "    }\n",
       "\n",
       "    .dataframe tbody tr th {\n",
       "        vertical-align: top;\n",
       "    }\n",
       "\n",
       "    .dataframe thead th {\n",
       "        text-align: right;\n",
       "    }\n",
       "</style>\n",
       "<table border=\"1\" class=\"dataframe\">\n",
       "  <thead>\n",
       "    <tr style=\"text-align: right;\">\n",
       "      <th></th>\n",
       "      <th>Net_Sales</th>\n",
       "    </tr>\n",
       "    <tr>\n",
       "      <th>Product_Name</th>\n",
       "      <th></th>\n",
       "    </tr>\n",
       "  </thead>\n",
       "  <tbody>\n",
       "    <tr>\n",
       "      <th>Annual Silver Plan</th>\n",
       "      <td>279666.11</td>\n",
       "    </tr>\n",
       "    <tr>\n",
       "      <th>Basic Plan</th>\n",
       "      <td>137253.00</td>\n",
       "    </tr>\n",
       "    <tr>\n",
       "      <th>Bronze Plan</th>\n",
       "      <td>129459.95</td>\n",
       "    </tr>\n",
       "    <tr>\n",
       "      <th>Silver Plan</th>\n",
       "      <td>110815.85</td>\n",
       "    </tr>\n",
       "    <tr>\n",
       "      <th>Value Plan</th>\n",
       "      <td>108759.00</td>\n",
       "    </tr>\n",
       "    <tr>\n",
       "      <th>Annual Gold Plan</th>\n",
       "      <td>63146.60</td>\n",
       "    </tr>\n",
       "    <tr>\n",
       "      <th>Gold Plan</th>\n",
       "      <td>27825.70</td>\n",
       "    </tr>\n",
       "    <tr>\n",
       "      <th>Annual Travel Protect Gold</th>\n",
       "      <td>24438.05</td>\n",
       "    </tr>\n",
       "    <tr>\n",
       "      <th>Annual Travel Protect Platinum</th>\n",
       "      <td>17607.10</td>\n",
       "    </tr>\n",
       "    <tr>\n",
       "      <th>Annual Travel Protect Silver</th>\n",
       "      <td>17251.30</td>\n",
       "    </tr>\n",
       "  </tbody>\n",
       "</table>\n",
       "</div>"
      ],
      "text/plain": [
       "                                Net_Sales\n",
       "Product_Name                             \n",
       "Annual Silver Plan              279666.11\n",
       "Basic Plan                      137253.00\n",
       "Bronze Plan                     129459.95\n",
       "Silver Plan                     110815.85\n",
       "Value Plan                      108759.00\n",
       "Annual Gold Plan                 63146.60\n",
       "Gold Plan                        27825.70\n",
       "Annual Travel Protect Gold       24438.05\n",
       "Annual Travel Protect Platinum   17607.10\n",
       "Annual Travel Protect Silver     17251.30"
      ]
     },
     "execution_count": 57,
     "metadata": {},
     "output_type": "execute_result"
    }
   ],
   "source": [
    "products_sales[:10]"
   ]
  },
  {
   "cell_type": "code",
   "execution_count": 58,
   "metadata": {},
   "outputs": [
    {
     "data": {
      "image/png": "[encoded data removed]",
      "text/plain": [
       "<Figure size 432x288 with 1 Axes>"
      ]
     },
     "metadata": {
      "needs_background": "light"
     },
     "output_type": "display_data"
    }
   ],
   "source": [
    "# Top 3 products by Net sales in the form of visual\n",
    "\n",
    "products_sales[:3].plot(style='--',c='black',marker='.')\n",
    "plt.grid()\n",
    "plt.show()"
   ]
  },
  {
   "cell_type": "markdown",
   "metadata": {},
   "source": [
    "# Bottom 10 Net sales by products"
   ]
  },
  {
   "cell_type": "code",
   "execution_count": 59,
   "metadata": {},
   "outputs": [
    {
     "data": {
      "text/html": [
       "<div>\n",
       "<style scoped>\n",
       "    .dataframe tbody tr th:only-of-type {\n",
       "        vertical-align: middle;\n",
       "    }\n",
       "\n",
       "    .dataframe tbody tr th {\n",
       "        vertical-align: top;\n",
       "    }\n",
       "\n",
       "    .dataframe thead th {\n",
       "        text-align: right;\n",
       "    }\n",
       "</style>\n",
       "<table border=\"1\" class=\"dataframe\">\n",
       "  <thead>\n",
       "    <tr style=\"text-align: right;\">\n",
       "      <th></th>\n",
       "      <th>Net_Sales</th>\n",
       "    </tr>\n",
       "    <tr>\n",
       "      <th>Product_Name</th>\n",
       "      <th></th>\n",
       "    </tr>\n",
       "  </thead>\n",
       "  <tbody>\n",
       "    <tr>\n",
       "      <th>24 Protect</th>\n",
       "      <td>5455.74</td>\n",
       "    </tr>\n",
       "    <tr>\n",
       "      <th>Annual Gold Plan</th>\n",
       "      <td>63146.60</td>\n",
       "    </tr>\n",
       "    <tr>\n",
       "      <th>Annual Silver Plan</th>\n",
       "      <td>279666.11</td>\n",
       "    </tr>\n",
       "    <tr>\n",
       "      <th>Annual Travel Protect Gold</th>\n",
       "      <td>24438.05</td>\n",
       "    </tr>\n",
       "    <tr>\n",
       "      <th>Annual Travel Protect Platinum</th>\n",
       "      <td>17607.10</td>\n",
       "    </tr>\n",
       "    <tr>\n",
       "      <th>Annual Travel Protect Silver</th>\n",
       "      <td>17251.30</td>\n",
       "    </tr>\n",
       "    <tr>\n",
       "      <th>Basic Plan</th>\n",
       "      <td>137253.00</td>\n",
       "    </tr>\n",
       "    <tr>\n",
       "      <th>Bronze Plan</th>\n",
       "      <td>129459.95</td>\n",
       "    </tr>\n",
       "    <tr>\n",
       "      <th>Child Comprehensive Plan</th>\n",
       "      <td>592.00</td>\n",
       "    </tr>\n",
       "    <tr>\n",
       "      <th>Comprehensive Plan</th>\n",
       "      <td>10055.00</td>\n",
       "    </tr>\n",
       "    <tr>\n",
       "      <th>Gold Plan</th>\n",
       "      <td>27825.70</td>\n",
       "    </tr>\n",
       "    <tr>\n",
       "      <th>Individual Comprehensive Plan</th>\n",
       "      <td>6887.00</td>\n",
       "    </tr>\n",
       "    <tr>\n",
       "      <th>Premier Plan</th>\n",
       "      <td>10783.00</td>\n",
       "    </tr>\n",
       "    <tr>\n",
       "      <th>Rental Vehicle Excess Insurance</th>\n",
       "      <td>227.70</td>\n",
       "    </tr>\n",
       "    <tr>\n",
       "      <th>Silver Plan</th>\n",
       "      <td>110815.85</td>\n",
       "    </tr>\n",
       "    <tr>\n",
       "      <th>Single Trip Travel Protect Gold</th>\n",
       "      <td>7981.60</td>\n",
       "    </tr>\n",
       "    <tr>\n",
       "      <th>Single Trip Travel Protect Platinum</th>\n",
       "      <td>3230.65</td>\n",
       "    </tr>\n",
       "    <tr>\n",
       "      <th>Single Trip Travel Protect Silver</th>\n",
       "      <td>5948.75</td>\n",
       "    </tr>\n",
       "    <tr>\n",
       "      <th>Spouse or Parents Comprehensive Plan</th>\n",
       "      <td>1290.00</td>\n",
       "    </tr>\n",
       "    <tr>\n",
       "      <th>Travel Cruise Protect</th>\n",
       "      <td>14580.00</td>\n",
       "    </tr>\n",
       "    <tr>\n",
       "      <th>Travel Cruise Protect Family</th>\n",
       "      <td>0.00</td>\n",
       "    </tr>\n",
       "    <tr>\n",
       "      <th>Value Plan</th>\n",
       "      <td>108759.00</td>\n",
       "    </tr>\n",
       "  </tbody>\n",
       "</table>\n",
       "</div>"
      ],
      "text/plain": [
       "                                      Net_Sales\n",
       "Product_Name                                   \n",
       "24 Protect                              5455.74\n",
       "Annual Gold Plan                       63146.60\n",
       "Annual Silver Plan                    279666.11\n",
       "Annual Travel Protect Gold             24438.05\n",
       "Annual Travel Protect Platinum         17607.10\n",
       "Annual Travel Protect Silver           17251.30\n",
       "Basic Plan                            137253.00\n",
       "Bronze Plan                           129459.95\n",
       "Child Comprehensive Plan                 592.00\n",
       "Comprehensive Plan                     10055.00\n",
       "Gold Plan                              27825.70\n",
       "Individual Comprehensive Plan           6887.00\n",
       "Premier Plan                           10783.00\n",
       "Rental Vehicle Excess Insurance          227.70\n",
       "Silver Plan                           110815.85\n",
       "Single Trip Travel Protect Gold         7981.60\n",
       "Single Trip Travel Protect Platinum     3230.65\n",
       "Single Trip Travel Protect Silver       5948.75\n",
       "Spouse or Parents Comprehensive Plan    1290.00\n",
       "Travel Cruise Protect                  14580.00\n",
       "Travel Cruise Protect Family               0.00\n",
       "Value Plan                            108759.00"
      ]
     },
     "execution_count": 59,
     "metadata": {},
     "output_type": "execute_result"
    }
   ],
   "source": [
    "## grouping product name column by using group by method-\n",
    "\n",
    "prod_sales=pd.DataFrame(df.groupby('Product_Name').sum()['Net_Sales'])\n",
    "prod_sales"
   ]
  },
  {
   "cell_type": "code",
   "execution_count": 60,
   "metadata": {},
   "outputs": [
    {
     "data": {
      "text/html": [
       "<div>\n",
       "<style scoped>\n",
       "    .dataframe tbody tr th:only-of-type {\n",
       "        vertical-align: middle;\n",
       "    }\n",
       "\n",
       "    .dataframe tbody tr th {\n",
       "        vertical-align: top;\n",
       "    }\n",
       "\n",
       "    .dataframe thead th {\n",
       "        text-align: right;\n",
       "    }\n",
       "</style>\n",
       "<table border=\"1\" class=\"dataframe\">\n",
       "  <thead>\n",
       "    <tr style=\"text-align: right;\">\n",
       "      <th></th>\n",
       "      <th>Net_Sales</th>\n",
       "    </tr>\n",
       "    <tr>\n",
       "      <th>Product_Name</th>\n",
       "      <th></th>\n",
       "    </tr>\n",
       "  </thead>\n",
       "  <tbody>\n",
       "    <tr>\n",
       "      <th>Travel Cruise Protect Family</th>\n",
       "      <td>0.00</td>\n",
       "    </tr>\n",
       "    <tr>\n",
       "      <th>Rental Vehicle Excess Insurance</th>\n",
       "      <td>227.70</td>\n",
       "    </tr>\n",
       "    <tr>\n",
       "      <th>Child Comprehensive Plan</th>\n",
       "      <td>592.00</td>\n",
       "    </tr>\n",
       "    <tr>\n",
       "      <th>Spouse or Parents Comprehensive Plan</th>\n",
       "      <td>1290.00</td>\n",
       "    </tr>\n",
       "    <tr>\n",
       "      <th>Single Trip Travel Protect Platinum</th>\n",
       "      <td>3230.65</td>\n",
       "    </tr>\n",
       "    <tr>\n",
       "      <th>24 Protect</th>\n",
       "      <td>5455.74</td>\n",
       "    </tr>\n",
       "    <tr>\n",
       "      <th>Single Trip Travel Protect Silver</th>\n",
       "      <td>5948.75</td>\n",
       "    </tr>\n",
       "    <tr>\n",
       "      <th>Individual Comprehensive Plan</th>\n",
       "      <td>6887.00</td>\n",
       "    </tr>\n",
       "    <tr>\n",
       "      <th>Single Trip Travel Protect Gold</th>\n",
       "      <td>7981.60</td>\n",
       "    </tr>\n",
       "    <tr>\n",
       "      <th>Comprehensive Plan</th>\n",
       "      <td>10055.00</td>\n",
       "    </tr>\n",
       "    <tr>\n",
       "      <th>Premier Plan</th>\n",
       "      <td>10783.00</td>\n",
       "    </tr>\n",
       "    <tr>\n",
       "      <th>Travel Cruise Protect</th>\n",
       "      <td>14580.00</td>\n",
       "    </tr>\n",
       "    <tr>\n",
       "      <th>Annual Travel Protect Silver</th>\n",
       "      <td>17251.30</td>\n",
       "    </tr>\n",
       "    <tr>\n",
       "      <th>Annual Travel Protect Platinum</th>\n",
       "      <td>17607.10</td>\n",
       "    </tr>\n",
       "    <tr>\n",
       "      <th>Annual Travel Protect Gold</th>\n",
       "      <td>24438.05</td>\n",
       "    </tr>\n",
       "    <tr>\n",
       "      <th>Gold Plan</th>\n",
       "      <td>27825.70</td>\n",
       "    </tr>\n",
       "    <tr>\n",
       "      <th>Annual Gold Plan</th>\n",
       "      <td>63146.60</td>\n",
       "    </tr>\n",
       "    <tr>\n",
       "      <th>Value Plan</th>\n",
       "      <td>108759.00</td>\n",
       "    </tr>\n",
       "    <tr>\n",
       "      <th>Silver Plan</th>\n",
       "      <td>110815.85</td>\n",
       "    </tr>\n",
       "    <tr>\n",
       "      <th>Bronze Plan</th>\n",
       "      <td>129459.95</td>\n",
       "    </tr>\n",
       "    <tr>\n",
       "      <th>Basic Plan</th>\n",
       "      <td>137253.00</td>\n",
       "    </tr>\n",
       "    <tr>\n",
       "      <th>Annual Silver Plan</th>\n",
       "      <td>279666.11</td>\n",
       "    </tr>\n",
       "  </tbody>\n",
       "</table>\n",
       "</div>"
      ],
      "text/plain": [
       "                                      Net_Sales\n",
       "Product_Name                                   \n",
       "Travel Cruise Protect Family               0.00\n",
       "Rental Vehicle Excess Insurance          227.70\n",
       "Child Comprehensive Plan                 592.00\n",
       "Spouse or Parents Comprehensive Plan    1290.00\n",
       "Single Trip Travel Protect Platinum     3230.65\n",
       "24 Protect                              5455.74\n",
       "Single Trip Travel Protect Silver       5948.75\n",
       "Individual Comprehensive Plan           6887.00\n",
       "Single Trip Travel Protect Gold         7981.60\n",
       "Comprehensive Plan                     10055.00\n",
       "Premier Plan                           10783.00\n",
       "Travel Cruise Protect                  14580.00\n",
       "Annual Travel Protect Silver           17251.30\n",
       "Annual Travel Protect Platinum         17607.10\n",
       "Annual Travel Protect Gold             24438.05\n",
       "Gold Plan                              27825.70\n",
       "Annual Gold Plan                       63146.60\n",
       "Value Plan                            108759.00\n",
       "Silver Plan                           110815.85\n",
       "Bronze Plan                           129459.95\n",
       "Basic Plan                            137253.00\n",
       "Annual Silver Plan                    279666.11"
      ]
     },
     "execution_count": 60,
     "metadata": {},
     "output_type": "execute_result"
    }
   ],
   "source": [
    "## sorting product sales column-\n",
    "\n",
    "product_sales= prod_sales.sort_values('Net_Sales',ascending=True)\n",
    "product_sales"
   ]
  },
  {
   "cell_type": "code",
   "execution_count": 61,
   "metadata": {},
   "outputs": [
    {
     "data": {
      "text/html": [
       "<div>\n",
       "<style scoped>\n",
       "    .dataframe tbody tr th:only-of-type {\n",
       "        vertical-align: middle;\n",
       "    }\n",
       "\n",
       "    .dataframe tbody tr th {\n",
       "        vertical-align: top;\n",
       "    }\n",
       "\n",
       "    .dataframe thead th {\n",
       "        text-align: right;\n",
       "    }\n",
       "</style>\n",
       "<table border=\"1\" class=\"dataframe\">\n",
       "  <thead>\n",
       "    <tr style=\"text-align: right;\">\n",
       "      <th></th>\n",
       "      <th>Net_Sales</th>\n",
       "    </tr>\n",
       "    <tr>\n",
       "      <th>Product_Name</th>\n",
       "      <th></th>\n",
       "    </tr>\n",
       "  </thead>\n",
       "  <tbody>\n",
       "    <tr>\n",
       "      <th>Travel Cruise Protect Family</th>\n",
       "      <td>0.00</td>\n",
       "    </tr>\n",
       "    <tr>\n",
       "      <th>Rental Vehicle Excess Insurance</th>\n",
       "      <td>227.70</td>\n",
       "    </tr>\n",
       "    <tr>\n",
       "      <th>Child Comprehensive Plan</th>\n",
       "      <td>592.00</td>\n",
       "    </tr>\n",
       "    <tr>\n",
       "      <th>Spouse or Parents Comprehensive Plan</th>\n",
       "      <td>1290.00</td>\n",
       "    </tr>\n",
       "    <tr>\n",
       "      <th>Single Trip Travel Protect Platinum</th>\n",
       "      <td>3230.65</td>\n",
       "    </tr>\n",
       "    <tr>\n",
       "      <th>24 Protect</th>\n",
       "      <td>5455.74</td>\n",
       "    </tr>\n",
       "    <tr>\n",
       "      <th>Single Trip Travel Protect Silver</th>\n",
       "      <td>5948.75</td>\n",
       "    </tr>\n",
       "    <tr>\n",
       "      <th>Individual Comprehensive Plan</th>\n",
       "      <td>6887.00</td>\n",
       "    </tr>\n",
       "    <tr>\n",
       "      <th>Single Trip Travel Protect Gold</th>\n",
       "      <td>7981.60</td>\n",
       "    </tr>\n",
       "    <tr>\n",
       "      <th>Comprehensive Plan</th>\n",
       "      <td>10055.00</td>\n",
       "    </tr>\n",
       "  </tbody>\n",
       "</table>\n",
       "</div>"
      ],
      "text/plain": [
       "                                      Net_Sales\n",
       "Product_Name                                   \n",
       "Travel Cruise Protect Family               0.00\n",
       "Rental Vehicle Excess Insurance          227.70\n",
       "Child Comprehensive Plan                 592.00\n",
       "Spouse or Parents Comprehensive Plan    1290.00\n",
       "Single Trip Travel Protect Platinum     3230.65\n",
       "24 Protect                              5455.74\n",
       "Single Trip Travel Protect Silver       5948.75\n",
       "Individual Comprehensive Plan           6887.00\n",
       "Single Trip Travel Protect Gold         7981.60\n",
       "Comprehensive Plan                     10055.00"
      ]
     },
     "execution_count": 61,
     "metadata": {},
     "output_type": "execute_result"
    }
   ],
   "source": [
    "product_sales[:10]"
   ]
  },
  {
   "cell_type": "code",
   "execution_count": 62,
   "metadata": {},
   "outputs": [
    {
     "data": {
      "image/png": "[encoded data removed]",
      "text/plain": [
       "<Figure size 432x288 with 1 Axes>"
      ]
     },
     "metadata": {
      "needs_background": "light"
     },
     "output_type": "display_data"
    }
   ],
   "source": [
    "# Bottom 3 products by Net sales in the form of visual\n",
    "\n",
    "product_sales[:3].plot(style='--',c='b',marker='.')\n",
    "plt.grid()\n",
    "plt.show()"
   ]
  },
  {
   "cell_type": "markdown",
   "metadata": {},
   "source": [
    "# Top 10 Destinations by Net sales"
   ]
  },
  {
   "cell_type": "code",
   "execution_count": 63,
   "metadata": {},
   "outputs": [
    {
     "data": {
      "text/html": [
       "<div>\n",
       "<style scoped>\n",
       "    .dataframe tbody tr th:only-of-type {\n",
       "        vertical-align: middle;\n",
       "    }\n",
       "\n",
       "    .dataframe tbody tr th {\n",
       "        vertical-align: top;\n",
       "    }\n",
       "\n",
       "    .dataframe thead th {\n",
       "        text-align: right;\n",
       "    }\n",
       "</style>\n",
       "<table border=\"1\" class=\"dataframe\">\n",
       "  <thead>\n",
       "    <tr style=\"text-align: right;\">\n",
       "      <th></th>\n",
       "      <th>Net_Sales</th>\n",
       "    </tr>\n",
       "    <tr>\n",
       "      <th>Destination</th>\n",
       "      <th></th>\n",
       "    </tr>\n",
       "  </thead>\n",
       "  <tbody>\n",
       "    <tr>\n",
       "      <th>ANGOLA</th>\n",
       "      <td>0.00</td>\n",
       "    </tr>\n",
       "    <tr>\n",
       "      <th>ARGENTINA</th>\n",
       "      <td>114.00</td>\n",
       "    </tr>\n",
       "    <tr>\n",
       "      <th>AUSTRALIA</th>\n",
       "      <td>10818.90</td>\n",
       "    </tr>\n",
       "    <tr>\n",
       "      <th>AUSTRIA</th>\n",
       "      <td>710.50</td>\n",
       "    </tr>\n",
       "    <tr>\n",
       "      <th>AZERBAIJAN</th>\n",
       "      <td>49.00</td>\n",
       "    </tr>\n",
       "    <tr>\n",
       "      <th>...</th>\n",
       "      <td>...</td>\n",
       "    </tr>\n",
       "    <tr>\n",
       "      <th>UNITED ARAB EMIRATES</th>\n",
       "      <td>2052.89</td>\n",
       "    </tr>\n",
       "    <tr>\n",
       "      <th>UNITED KINGDOM</th>\n",
       "      <td>7629.50</td>\n",
       "    </tr>\n",
       "    <tr>\n",
       "      <th>UNITED STATES</th>\n",
       "      <td>61246.10</td>\n",
       "    </tr>\n",
       "    <tr>\n",
       "      <th>UZBEKISTAN</th>\n",
       "      <td>87.00</td>\n",
       "    </tr>\n",
       "    <tr>\n",
       "      <th>VIET NAM</th>\n",
       "      <td>6336.26</td>\n",
       "    </tr>\n",
       "  </tbody>\n",
       "</table>\n",
       "<p>82 rows × 1 columns</p>\n",
       "</div>"
      ],
      "text/plain": [
       "                      Net_Sales\n",
       "Destination                    \n",
       "ANGOLA                     0.00\n",
       "ARGENTINA                114.00\n",
       "AUSTRALIA              10818.90\n",
       "AUSTRIA                  710.50\n",
       "AZERBAIJAN                49.00\n",
       "...                         ...\n",
       "UNITED ARAB EMIRATES    2052.89\n",
       "UNITED KINGDOM          7629.50\n",
       "UNITED STATES          61246.10\n",
       "UZBEKISTAN                87.00\n",
       "VIET NAM                6336.26\n",
       "\n",
       "[82 rows x 1 columns]"
      ]
     },
     "execution_count": 63,
     "metadata": {},
     "output_type": "execute_result"
    }
   ],
   "source": [
    "## grouping Destination name column by using group by method-\n",
    "\n",
    "Top_10_dest =pd.DataFrame(df.groupby('Destination').sum()['Net_Sales'])\n",
    "Top_10_dest"
   ]
  },
  {
   "cell_type": "code",
   "execution_count": 64,
   "metadata": {},
   "outputs": [
    {
     "data": {
      "text/html": [
       "<div>\n",
       "<style scoped>\n",
       "    .dataframe tbody tr th:only-of-type {\n",
       "        vertical-align: middle;\n",
       "    }\n",
       "\n",
       "    .dataframe tbody tr th {\n",
       "        vertical-align: top;\n",
       "    }\n",
       "\n",
       "    .dataframe thead th {\n",
       "        text-align: right;\n",
       "    }\n",
       "</style>\n",
       "<table border=\"1\" class=\"dataframe\">\n",
       "  <thead>\n",
       "    <tr style=\"text-align: right;\">\n",
       "      <th></th>\n",
       "      <th>Net_Sales</th>\n",
       "    </tr>\n",
       "    <tr>\n",
       "      <th>Destination</th>\n",
       "      <th></th>\n",
       "    </tr>\n",
       "  </thead>\n",
       "  <tbody>\n",
       "    <tr>\n",
       "      <th>SINGAPORE</th>\n",
       "      <td>618236.41</td>\n",
       "    </tr>\n",
       "    <tr>\n",
       "      <th>UNITED STATES</th>\n",
       "      <td>61246.10</td>\n",
       "    </tr>\n",
       "    <tr>\n",
       "      <th>CHINA</th>\n",
       "      <td>49423.65</td>\n",
       "    </tr>\n",
       "    <tr>\n",
       "      <th>THAILAND</th>\n",
       "      <td>36645.57</td>\n",
       "    </tr>\n",
       "    <tr>\n",
       "      <th>INDIA</th>\n",
       "      <td>31036.25</td>\n",
       "    </tr>\n",
       "    <tr>\n",
       "      <th>...</th>\n",
       "      <td>...</td>\n",
       "    </tr>\n",
       "    <tr>\n",
       "      <th>MALDIVES</th>\n",
       "      <td>48.50</td>\n",
       "    </tr>\n",
       "    <tr>\n",
       "      <th>IRAN, ISLAMIC REPUBLIC OF</th>\n",
       "      <td>42.08</td>\n",
       "    </tr>\n",
       "    <tr>\n",
       "      <th>FIJI</th>\n",
       "      <td>35.00</td>\n",
       "    </tr>\n",
       "    <tr>\n",
       "      <th>MOROCCO</th>\n",
       "      <td>0.00</td>\n",
       "    </tr>\n",
       "    <tr>\n",
       "      <th>ANGOLA</th>\n",
       "      <td>0.00</td>\n",
       "    </tr>\n",
       "  </tbody>\n",
       "</table>\n",
       "<p>82 rows × 1 columns</p>\n",
       "</div>"
      ],
      "text/plain": [
       "                           Net_Sales\n",
       "Destination                         \n",
       "SINGAPORE                  618236.41\n",
       "UNITED STATES               61246.10\n",
       "CHINA                       49423.65\n",
       "THAILAND                    36645.57\n",
       "INDIA                       31036.25\n",
       "...                              ...\n",
       "MALDIVES                       48.50\n",
       "IRAN, ISLAMIC REPUBLIC OF      42.08\n",
       "FIJI                           35.00\n",
       "MOROCCO                         0.00\n",
       "ANGOLA                          0.00\n",
       "\n",
       "[82 rows x 1 columns]"
      ]
     },
     "execution_count": 64,
     "metadata": {},
     "output_type": "execute_result"
    }
   ],
   "source": [
    "## sorting product sales column-\n",
    "\n",
    "Top_10 = Top_10_dest.sort_values('Net_Sales',ascending=False)\n",
    "Top_10"
   ]
  },
  {
   "cell_type": "markdown",
   "metadata": {},
   "source": [
    "# Top 10 Destinations by Net_Sales below"
   ]
  },
  {
   "cell_type": "code",
   "execution_count": 65,
   "metadata": {},
   "outputs": [
    {
     "data": {
      "text/html": [
       "<div>\n",
       "<style scoped>\n",
       "    .dataframe tbody tr th:only-of-type {\n",
       "        vertical-align: middle;\n",
       "    }\n",
       "\n",
       "    .dataframe tbody tr th {\n",
       "        vertical-align: top;\n",
       "    }\n",
       "\n",
       "    .dataframe thead th {\n",
       "        text-align: right;\n",
       "    }\n",
       "</style>\n",
       "<table border=\"1\" class=\"dataframe\">\n",
       "  <thead>\n",
       "    <tr style=\"text-align: right;\">\n",
       "      <th></th>\n",
       "      <th>Net_Sales</th>\n",
       "    </tr>\n",
       "    <tr>\n",
       "      <th>Destination</th>\n",
       "      <th></th>\n",
       "    </tr>\n",
       "  </thead>\n",
       "  <tbody>\n",
       "    <tr>\n",
       "      <th>SINGAPORE</th>\n",
       "      <td>618236.41</td>\n",
       "    </tr>\n",
       "    <tr>\n",
       "      <th>UNITED STATES</th>\n",
       "      <td>61246.10</td>\n",
       "    </tr>\n",
       "    <tr>\n",
       "      <th>CHINA</th>\n",
       "      <td>49423.65</td>\n",
       "    </tr>\n",
       "    <tr>\n",
       "      <th>THAILAND</th>\n",
       "      <td>36645.57</td>\n",
       "    </tr>\n",
       "    <tr>\n",
       "      <th>INDIA</th>\n",
       "      <td>31036.25</td>\n",
       "    </tr>\n",
       "    <tr>\n",
       "      <th>MALAYSIA</th>\n",
       "      <td>23902.14</td>\n",
       "    </tr>\n",
       "    <tr>\n",
       "      <th>INDONESIA</th>\n",
       "      <td>21233.40</td>\n",
       "    </tr>\n",
       "    <tr>\n",
       "      <th>HONG KONG</th>\n",
       "      <td>19187.38</td>\n",
       "    </tr>\n",
       "    <tr>\n",
       "      <th>PHILIPPINES</th>\n",
       "      <td>15040.91</td>\n",
       "    </tr>\n",
       "    <tr>\n",
       "      <th>JAPAN</th>\n",
       "      <td>11093.09</td>\n",
       "    </tr>\n",
       "  </tbody>\n",
       "</table>\n",
       "</div>"
      ],
      "text/plain": [
       "               Net_Sales\n",
       "Destination             \n",
       "SINGAPORE      618236.41\n",
       "UNITED STATES   61246.10\n",
       "CHINA           49423.65\n",
       "THAILAND        36645.57\n",
       "INDIA           31036.25\n",
       "MALAYSIA        23902.14\n",
       "INDONESIA       21233.40\n",
       "HONG KONG       19187.38\n",
       "PHILIPPINES     15040.91\n",
       "JAPAN           11093.09"
      ]
     },
     "execution_count": 65,
     "metadata": {},
     "output_type": "execute_result"
    }
   ],
   "source": [
    "Top_10[:10]"
   ]
  },
  {
   "cell_type": "markdown",
   "metadata": {},
   "source": [
    "# Bottom 10 Destinations by Net sales"
   ]
  },
  {
   "cell_type": "code",
   "execution_count": 66,
   "metadata": {},
   "outputs": [
    {
     "data": {
      "text/html": [
       "<div>\n",
       "<style scoped>\n",
       "    .dataframe tbody tr th:only-of-type {\n",
       "        vertical-align: middle;\n",
       "    }\n",
       "\n",
       "    .dataframe tbody tr th {\n",
       "        vertical-align: top;\n",
       "    }\n",
       "\n",
       "    .dataframe thead th {\n",
       "        text-align: right;\n",
       "    }\n",
       "</style>\n",
       "<table border=\"1\" class=\"dataframe\">\n",
       "  <thead>\n",
       "    <tr style=\"text-align: right;\">\n",
       "      <th></th>\n",
       "      <th>Net_Sales</th>\n",
       "    </tr>\n",
       "    <tr>\n",
       "      <th>Destination</th>\n",
       "      <th></th>\n",
       "    </tr>\n",
       "  </thead>\n",
       "  <tbody>\n",
       "    <tr>\n",
       "      <th>ANGOLA</th>\n",
       "      <td>0.00</td>\n",
       "    </tr>\n",
       "    <tr>\n",
       "      <th>ARGENTINA</th>\n",
       "      <td>114.00</td>\n",
       "    </tr>\n",
       "    <tr>\n",
       "      <th>AUSTRALIA</th>\n",
       "      <td>10818.90</td>\n",
       "    </tr>\n",
       "    <tr>\n",
       "      <th>AUSTRIA</th>\n",
       "      <td>710.50</td>\n",
       "    </tr>\n",
       "    <tr>\n",
       "      <th>AZERBAIJAN</th>\n",
       "      <td>49.00</td>\n",
       "    </tr>\n",
       "    <tr>\n",
       "      <th>...</th>\n",
       "      <td>...</td>\n",
       "    </tr>\n",
       "    <tr>\n",
       "      <th>UNITED ARAB EMIRATES</th>\n",
       "      <td>2052.89</td>\n",
       "    </tr>\n",
       "    <tr>\n",
       "      <th>UNITED KINGDOM</th>\n",
       "      <td>7629.50</td>\n",
       "    </tr>\n",
       "    <tr>\n",
       "      <th>UNITED STATES</th>\n",
       "      <td>61246.10</td>\n",
       "    </tr>\n",
       "    <tr>\n",
       "      <th>UZBEKISTAN</th>\n",
       "      <td>87.00</td>\n",
       "    </tr>\n",
       "    <tr>\n",
       "      <th>VIET NAM</th>\n",
       "      <td>6336.26</td>\n",
       "    </tr>\n",
       "  </tbody>\n",
       "</table>\n",
       "<p>82 rows × 1 columns</p>\n",
       "</div>"
      ],
      "text/plain": [
       "                      Net_Sales\n",
       "Destination                    \n",
       "ANGOLA                     0.00\n",
       "ARGENTINA                114.00\n",
       "AUSTRALIA              10818.90\n",
       "AUSTRIA                  710.50\n",
       "AZERBAIJAN                49.00\n",
       "...                         ...\n",
       "UNITED ARAB EMIRATES    2052.89\n",
       "UNITED KINGDOM          7629.50\n",
       "UNITED STATES          61246.10\n",
       "UZBEKISTAN                87.00\n",
       "VIET NAM                6336.26\n",
       "\n",
       "[82 rows x 1 columns]"
      ]
     },
     "execution_count": 66,
     "metadata": {},
     "output_type": "execute_result"
    }
   ],
   "source": [
    "## grouping Destination name column by using group by method-\n",
    "\n",
    "Bottom_10_dest =pd.DataFrame(df.groupby('Destination').sum()['Net_Sales'])\n",
    "Bottom_10_dest"
   ]
  },
  {
   "cell_type": "code",
   "execution_count": 67,
   "metadata": {},
   "outputs": [
    {
     "data": {
      "text/html": [
       "<div>\n",
       "<style scoped>\n",
       "    .dataframe tbody tr th:only-of-type {\n",
       "        vertical-align: middle;\n",
       "    }\n",
       "\n",
       "    .dataframe tbody tr th {\n",
       "        vertical-align: top;\n",
       "    }\n",
       "\n",
       "    .dataframe thead th {\n",
       "        text-align: right;\n",
       "    }\n",
       "</style>\n",
       "<table border=\"1\" class=\"dataframe\">\n",
       "  <thead>\n",
       "    <tr style=\"text-align: right;\">\n",
       "      <th></th>\n",
       "      <th>Net_Sales</th>\n",
       "    </tr>\n",
       "    <tr>\n",
       "      <th>Destination</th>\n",
       "      <th></th>\n",
       "    </tr>\n",
       "  </thead>\n",
       "  <tbody>\n",
       "    <tr>\n",
       "      <th>ANGOLA</th>\n",
       "      <td>0.00</td>\n",
       "    </tr>\n",
       "    <tr>\n",
       "      <th>MOROCCO</th>\n",
       "      <td>0.00</td>\n",
       "    </tr>\n",
       "    <tr>\n",
       "      <th>FIJI</th>\n",
       "      <td>35.00</td>\n",
       "    </tr>\n",
       "    <tr>\n",
       "      <th>IRAN, ISLAMIC REPUBLIC OF</th>\n",
       "      <td>42.08</td>\n",
       "    </tr>\n",
       "    <tr>\n",
       "      <th>MALDIVES</th>\n",
       "      <td>48.50</td>\n",
       "    </tr>\n",
       "    <tr>\n",
       "      <th>...</th>\n",
       "      <td>...</td>\n",
       "    </tr>\n",
       "    <tr>\n",
       "      <th>INDIA</th>\n",
       "      <td>31036.25</td>\n",
       "    </tr>\n",
       "    <tr>\n",
       "      <th>THAILAND</th>\n",
       "      <td>36645.57</td>\n",
       "    </tr>\n",
       "    <tr>\n",
       "      <th>CHINA</th>\n",
       "      <td>49423.65</td>\n",
       "    </tr>\n",
       "    <tr>\n",
       "      <th>UNITED STATES</th>\n",
       "      <td>61246.10</td>\n",
       "    </tr>\n",
       "    <tr>\n",
       "      <th>SINGAPORE</th>\n",
       "      <td>618236.41</td>\n",
       "    </tr>\n",
       "  </tbody>\n",
       "</table>\n",
       "<p>82 rows × 1 columns</p>\n",
       "</div>"
      ],
      "text/plain": [
       "                           Net_Sales\n",
       "Destination                         \n",
       "ANGOLA                          0.00\n",
       "MOROCCO                         0.00\n",
       "FIJI                           35.00\n",
       "IRAN, ISLAMIC REPUBLIC OF      42.08\n",
       "MALDIVES                       48.50\n",
       "...                              ...\n",
       "INDIA                       31036.25\n",
       "THAILAND                    36645.57\n",
       "CHINA                       49423.65\n",
       "UNITED STATES               61246.10\n",
       "SINGAPORE                  618236.41\n",
       "\n",
       "[82 rows x 1 columns]"
      ]
     },
     "execution_count": 67,
     "metadata": {},
     "output_type": "execute_result"
    }
   ],
   "source": [
    "## sorting product sales column-\n",
    "\n",
    "Bottom_10 = Bottom_10_dest.sort_values('Net_Sales',ascending=True)\n",
    "Bottom_10"
   ]
  },
  {
   "cell_type": "markdown",
   "metadata": {},
   "source": [
    "# Bottom 10 Destinations by Net_Sales below"
   ]
  },
  {
   "cell_type": "code",
   "execution_count": 68,
   "metadata": {},
   "outputs": [
    {
     "data": {
      "text/html": [
       "<div>\n",
       "<style scoped>\n",
       "    .dataframe tbody tr th:only-of-type {\n",
       "        vertical-align: middle;\n",
       "    }\n",
       "\n",
       "    .dataframe tbody tr th {\n",
       "        vertical-align: top;\n",
       "    }\n",
       "\n",
       "    .dataframe thead th {\n",
       "        text-align: right;\n",
       "    }\n",
       "</style>\n",
       "<table border=\"1\" class=\"dataframe\">\n",
       "  <thead>\n",
       "    <tr style=\"text-align: right;\">\n",
       "      <th></th>\n",
       "      <th>Net_Sales</th>\n",
       "    </tr>\n",
       "    <tr>\n",
       "      <th>Destination</th>\n",
       "      <th></th>\n",
       "    </tr>\n",
       "  </thead>\n",
       "  <tbody>\n",
       "    <tr>\n",
       "      <th>ANGOLA</th>\n",
       "      <td>0.00</td>\n",
       "    </tr>\n",
       "    <tr>\n",
       "      <th>MOROCCO</th>\n",
       "      <td>0.00</td>\n",
       "    </tr>\n",
       "    <tr>\n",
       "      <th>FIJI</th>\n",
       "      <td>35.00</td>\n",
       "    </tr>\n",
       "    <tr>\n",
       "      <th>IRAN, ISLAMIC REPUBLIC OF</th>\n",
       "      <td>42.08</td>\n",
       "    </tr>\n",
       "    <tr>\n",
       "      <th>MALDIVES</th>\n",
       "      <td>48.50</td>\n",
       "    </tr>\n",
       "    <tr>\n",
       "      <th>AZERBAIJAN</th>\n",
       "      <td>49.00</td>\n",
       "    </tr>\n",
       "    <tr>\n",
       "      <th>BELARUS</th>\n",
       "      <td>52.50</td>\n",
       "    </tr>\n",
       "    <tr>\n",
       "      <th>OMAN</th>\n",
       "      <td>55.00</td>\n",
       "    </tr>\n",
       "    <tr>\n",
       "      <th>PAPUA NEW GUINEA</th>\n",
       "      <td>58.00</td>\n",
       "    </tr>\n",
       "    <tr>\n",
       "      <th>NEW CALEDONIA</th>\n",
       "      <td>58.00</td>\n",
       "    </tr>\n",
       "  </tbody>\n",
       "</table>\n",
       "</div>"
      ],
      "text/plain": [
       "                           Net_Sales\n",
       "Destination                         \n",
       "ANGOLA                          0.00\n",
       "MOROCCO                         0.00\n",
       "FIJI                           35.00\n",
       "IRAN, ISLAMIC REPUBLIC OF      42.08\n",
       "MALDIVES                       48.50\n",
       "AZERBAIJAN                     49.00\n",
       "BELARUS                        52.50\n",
       "OMAN                           55.00\n",
       "PAPUA NEW GUINEA               58.00\n",
       "NEW CALEDONIA                  58.00"
      ]
     },
     "execution_count": 68,
     "metadata": {},
     "output_type": "execute_result"
    }
   ],
   "source": [
    "Bottom_10[:10]"
   ]
  },
  {
   "cell_type": "markdown",
   "metadata": {},
   "source": [
    "# Findings :"
   ]
  },
  {
   "cell_type": "markdown",
   "metadata": {},
   "source": [
    "1. The average Duration of Travel agency is having more than airlines which is around 101:65 ratio respectively.\n",
    "\n",
    "2. airline agency having more net sales than travel agency which is around 810 and the travel agency is having net sales around 422.\n",
    "\n",
    "3. In airline agency there is more negative net sales as compared to travel agency which is approxmate -389 and for for travel agency it is between -220 to -230.\n",
    "\n",
    "4. Females having more/higher commision value than males which is around 283 and for males is around 240.\n",
    "\n",
    "5. Between age group (0-10) the net sales are high than other age group which is probably 325.\n",
    "\n",
    "6. The destination italy is having highest net sales is 148 and his lowest is around 40.\n",
    "\n",
    "7. Switzerland having highest commision value that is 59 and its own lowest commision value is around 15.\n",
    "\n",
    "8. All the net sales happened in the finland between (30-65) age group.\n",
    "\n",
    "9. annual silver plan is the top selling product among the other products which is 279666.11.\n",
    "\n",
    "10. Travel Cruise Protect Family is the lowest selling product among the other products which is 0.00.\n",
    "\n",
    "11. SINGAPORE is having the highest amount of net_sales that is 618236.41 among all other destinations.\n",
    "\n",
    "12. The lowest net_sales destination is ANGOLA which is 0.\n",
    "\n"
   ]
  },
  {
   "cell_type": "code",
   "execution_count": null,
   "metadata": {},
   "outputs": [],
   "source": []
  }
 ],
 "metadata": {
  "kernelspec": {
   "display_name": "Python 3",
   "language": "python",
   "name": "python3"
  },
  "language_info": {
   "codemirror_mode": {
    "name": "ipython",
    "version": 3
   },
   "file_extension": ".py",
   "mimetype": "text/x-python",
   "name": "python",
   "nbconvert_exporter": "python",
   "pygments_lexer": "ipython3",
   "version": "3.7.6"
  }
 },
 "nbformat": 4,
 "nbformat_minor": 4
}
